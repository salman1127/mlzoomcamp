{
  "nbformat": 4,
  "nbformat_minor": 0,
  "metadata": {
    "colab": {
      "provenance": [],
      "machine_shape": "hm"
    },
    "kernelspec": {
      "name": "python3",
      "display_name": "Python 3"
    },
    "language_info": {
      "name": "python"
    },
    "gpuClass": "standard"
  },
  "cells": [
    {
      "cell_type": "code",
      "execution_count": 1,
      "metadata": {
        "colab": {
          "base_uri": "https://localhost:8080/"
        },
        "id": "Ufo7jfeqQcK9",
        "outputId": "7c3f4173-8a01-4d23-f693-e75a0b624d26"
      },
      "outputs": [
        {
          "output_type": "stream",
          "name": "stdout",
          "text": [
            "Drive already mounted at /content/drive; to attempt to forcibly remount, call drive.mount(\"/content/drive\", force_remount=True).\n"
          ]
        }
      ],
      "source": [
        "from google.colab import drive\n",
        "drive.mount('/content/drive')"
      ]
    },
    {
      "cell_type": "code",
      "source": [
        "import pandas as pd\n",
        "import numpy as np\n",
        "\n",
        "from sklearn.feature_extraction import DictVectorizer\n",
        "from sklearn.linear_model import LinearRegression\n",
        "from sklearn.linear_model import Lasso\n",
        "from sklearn.linear_model import Ridge\n",
        "\n",
        "from sklearn.metrics import mean_squared_error\n",
        "import seaborn as sns\n",
        "import matplotlib.pyplot as plt\n"
      ],
      "metadata": {
        "id": "m0mCqgJ3RlJK"
      },
      "execution_count": 2,
      "outputs": []
    },
    {
      "cell_type": "code",
      "source": [
        "df_train  = pd.read_parquet('drive/MyDrive/data/yellow_tripdata_2022-01.parquet')\n",
        "df_val = pd.read_parquet('drive/MyDrive/data/yellow_tripdata_2022-02.parquet')"
      ],
      "metadata": {
        "id": "y1M8uaPwRHdT"
      },
      "execution_count": 3,
      "outputs": []
    },
    {
      "cell_type": "code",
      "source": [
        "df_train['duration'] = df_train.tpep_dropoff_datetime - df_train.tpep_pickup_datetime\n",
        "df_train['duration'] = df_train.duration.dt.total_seconds() / 60"
      ],
      "metadata": {
        "id": "jRE35tf7RkKn"
      },
      "execution_count": 4,
      "outputs": []
    },
    {
      "cell_type": "code",
      "source": [
        "df_val['duration'] = df_val.tpep_dropoff_datetime - df_val.tpep_pickup_datetime\n",
        "df_val['duration'] = df_val.duration.dt.total_seconds() / 60"
      ],
      "metadata": {
        "id": "m1ubQeZfR12w"
      },
      "execution_count": 5,
      "outputs": []
    },
    {
      "cell_type": "code",
      "source": [
        "df_train[(df_train.duration >= 1) & (df_train.duration <= 60)].copy().shape[0] / df_train.shape[0]"
      ],
      "metadata": {
        "colab": {
          "base_uri": "https://localhost:8080/"
        },
        "id": "-Y2W9ZsyR5ox",
        "outputId": "2baaa04b-f869-4748-b2ec-1dc20dc1b37c"
      },
      "execution_count": 6,
      "outputs": [
        {
          "output_type": "execute_result",
          "data": {
            "text/plain": [
              "0.9827547930522406"
            ]
          },
          "metadata": {},
          "execution_count": 6
        }
      ]
    },
    {
      "cell_type": "code",
      "source": [
        "df_train = df_train[(df_train.duration >= 1) & (df_train.duration <= 60)].copy()"
      ],
      "metadata": {
        "id": "pc8jdUmuR7uT"
      },
      "execution_count": 7,
      "outputs": []
    },
    {
      "cell_type": "code",
      "source": [
        "from sklearn.preprocessing import OneHotEncoder"
      ],
      "metadata": {
        "id": "DjETuzGiR9nL"
      },
      "execution_count": 8,
      "outputs": []
    },
    {
      "cell_type": "code",
      "source": [
        "\n",
        "categorical = ['PULocationID', 'DOLocationID']"
      ],
      "metadata": {
        "id": "lWZbTHotSGxA"
      },
      "execution_count": 9,
      "outputs": []
    },
    {
      "cell_type": "code",
      "source": [
        "\n",
        "#del df_val"
      ],
      "metadata": {
        "id": "rlpItY10V-uz"
      },
      "execution_count": 10,
      "outputs": []
    },
    {
      "cell_type": "code",
      "source": [
        "df_train[categorical] = df_train[categorical].astype(str)\n",
        "df_val[categorical] = df_val[categorical].astype(str)"
      ],
      "metadata": {
        "id": "lvbl-ghIR_T-"
      },
      "execution_count": 11,
      "outputs": []
    },
    {
      "cell_type": "code",
      "source": [
        "temp = df_train.sample(frac=0.75)"
      ],
      "metadata": {
        "id": "UYFSdCh3VrOi"
      },
      "execution_count": 12,
      "outputs": []
    },
    {
      "cell_type": "code",
      "source": [
        "ohe = OneHotEncoder()\n",
        "array_hot_encoded = pd.DataFrame(ohe.fit_transform(temp[categorical]).toarray())"
      ],
      "metadata": {
        "id": "-Wlwb3YSSBhH"
      },
      "execution_count": 13,
      "outputs": []
    },
    {
      "cell_type": "code",
      "source": [
        "\n",
        "array_hot_encoded.shape"
      ],
      "metadata": {
        "colab": {
          "base_uri": "https://localhost:8080/"
        },
        "id": "JUyBbBLvSQAA",
        "outputId": "fc21fdf9-ac5f-4d21-c0b8-c00b88a0e41a"
      },
      "execution_count": 14,
      "outputs": [
        {
          "output_type": "execute_result",
          "data": {
            "text/plain": [
              "(1816080, 511)"
            ]
          },
          "metadata": {},
          "execution_count": 14
        }
      ]
    },
    {
      "cell_type": "code",
      "source": [
        "\n",
        "temp"
      ],
      "metadata": {
        "colab": {
          "base_uri": "https://localhost:8080/",
          "height": 487
        },
        "id": "_NpCP_T7WcCx",
        "outputId": "e09e0eed-cbde-484c-b800-3fb9afc3c2a7"
      },
      "execution_count": 15,
      "outputs": [
        {
          "output_type": "execute_result",
          "data": {
            "text/plain": [
              "         VendorID tpep_pickup_datetime tpep_dropoff_datetime  passenger_count  \\\n",
              "1622370         1  2022-01-22 11:36:24   2022-01-22 11:41:49              1.0   \n",
              "1167331         1  2022-01-16 18:51:55   2022-01-16 19:07:46              1.0   \n",
              "314203          2  2022-01-05 17:58:00   2022-01-05 17:59:38              1.0   \n",
              "2356759         2  2022-01-31 16:41:42   2022-01-31 16:44:16              1.0   \n",
              "1047164         2  2022-01-15 10:17:30   2022-01-15 10:44:28              1.0   \n",
              "...           ...                  ...                   ...              ...   \n",
              "1296809         1  2022-01-18 16:40:10   2022-01-18 16:46:28              1.0   \n",
              "1558281         2  2022-01-21 16:24:50   2022-01-21 16:44:46              1.0   \n",
              "2261662         2  2022-01-30 12:44:33   2022-01-30 12:54:55              1.0   \n",
              "1527438         2  2022-01-21 11:18:03   2022-01-21 11:27:06              1.0   \n",
              "2124024         2  2022-01-28 01:04:25   2022-01-28 01:11:05              2.0   \n",
              "\n",
              "         trip_distance  RatecodeID store_and_fwd_flag PULocationID  \\\n",
              "1622370           0.80         1.0                  N          229   \n",
              "1167331           1.80         1.0                  N          107   \n",
              "314203            0.41         1.0                  N          140   \n",
              "2356759           0.60         1.0                  N           43   \n",
              "1047164          11.04         1.0                  N          100   \n",
              "...                ...         ...                ...          ...   \n",
              "1296809           0.90         1.0                  N          262   \n",
              "1558281           3.08         1.0                  N          161   \n",
              "2261662           1.57         1.0                  N           87   \n",
              "1527438           0.74         1.0                  N           79   \n",
              "2124024           1.64         1.0                  N          163   \n",
              "\n",
              "        DOLocationID  payment_type  fare_amount  extra  mta_tax  tip_amount  \\\n",
              "1622370          141             1          5.5    2.5      0.5        0.88   \n",
              "1167331          158             1         11.5    2.5      0.5        2.00   \n",
              "314203           262             1          3.5    1.0      0.5        1.00   \n",
              "2356759          238             2          4.0    1.0      0.5        0.00   \n",
              "1047164           14             1         33.5    0.0      0.5        8.67   \n",
              "...              ...           ...          ...    ...      ...         ...   \n",
              "1296809          141             2          6.0    3.5      0.5        0.00   \n",
              "1558281          211             1         14.0    1.0      0.5        4.58   \n",
              "2261662          148             1          9.0    0.0      0.5        2.46   \n",
              "1527438          232             1          7.0    0.0      0.5        2.06   \n",
              "2124024           48             1          7.5    0.5      0.5        2.26   \n",
              "\n",
              "         tolls_amount  improvement_surcharge  total_amount  \\\n",
              "1622370          0.00                    0.3          9.68   \n",
              "1167331          0.00                    0.3         16.80   \n",
              "314203           0.00                    0.3          8.80   \n",
              "2356759          0.00                    0.3          8.30   \n",
              "1047164          6.55                    0.3         52.02   \n",
              "...               ...                    ...           ...   \n",
              "1296809          0.00                    0.3         10.30   \n",
              "1558281          0.00                    0.3         22.88   \n",
              "2261662          0.00                    0.3         14.76   \n",
              "1527438          0.00                    0.3         12.36   \n",
              "2124024          0.00                    0.3         13.56   \n",
              "\n",
              "         congestion_surcharge  airport_fee   duration  \n",
              "1622370                   2.5          0.0   5.416667  \n",
              "1167331                   2.5          0.0  15.850000  \n",
              "314203                    2.5          0.0   1.633333  \n",
              "2356759                   2.5          0.0   2.566667  \n",
              "1047164                   2.5          0.0  26.966667  \n",
              "...                       ...          ...        ...  \n",
              "1296809                   2.5          0.0   6.300000  \n",
              "1558281                   2.5          0.0  19.933333  \n",
              "2261662                   2.5          0.0  10.366667  \n",
              "1527438                   2.5          0.0   9.050000  \n",
              "2124024                   2.5          0.0   6.666667  \n",
              "\n",
              "[1816080 rows x 20 columns]"
            ],
            "text/html": [
              "\n",
              "  <div id=\"df-c694ad4d-1b50-4448-b89d-73cbd784d1f0\">\n",
              "    <div class=\"colab-df-container\">\n",
              "      <div>\n",
              "<style scoped>\n",
              "    .dataframe tbody tr th:only-of-type {\n",
              "        vertical-align: middle;\n",
              "    }\n",
              "\n",
              "    .dataframe tbody tr th {\n",
              "        vertical-align: top;\n",
              "    }\n",
              "\n",
              "    .dataframe thead th {\n",
              "        text-align: right;\n",
              "    }\n",
              "</style>\n",
              "<table border=\"1\" class=\"dataframe\">\n",
              "  <thead>\n",
              "    <tr style=\"text-align: right;\">\n",
              "      <th></th>\n",
              "      <th>VendorID</th>\n",
              "      <th>tpep_pickup_datetime</th>\n",
              "      <th>tpep_dropoff_datetime</th>\n",
              "      <th>passenger_count</th>\n",
              "      <th>trip_distance</th>\n",
              "      <th>RatecodeID</th>\n",
              "      <th>store_and_fwd_flag</th>\n",
              "      <th>PULocationID</th>\n",
              "      <th>DOLocationID</th>\n",
              "      <th>payment_type</th>\n",
              "      <th>fare_amount</th>\n",
              "      <th>extra</th>\n",
              "      <th>mta_tax</th>\n",
              "      <th>tip_amount</th>\n",
              "      <th>tolls_amount</th>\n",
              "      <th>improvement_surcharge</th>\n",
              "      <th>total_amount</th>\n",
              "      <th>congestion_surcharge</th>\n",
              "      <th>airport_fee</th>\n",
              "      <th>duration</th>\n",
              "    </tr>\n",
              "  </thead>\n",
              "  <tbody>\n",
              "    <tr>\n",
              "      <th>1622370</th>\n",
              "      <td>1</td>\n",
              "      <td>2022-01-22 11:36:24</td>\n",
              "      <td>2022-01-22 11:41:49</td>\n",
              "      <td>1.0</td>\n",
              "      <td>0.80</td>\n",
              "      <td>1.0</td>\n",
              "      <td>N</td>\n",
              "      <td>229</td>\n",
              "      <td>141</td>\n",
              "      <td>1</td>\n",
              "      <td>5.5</td>\n",
              "      <td>2.5</td>\n",
              "      <td>0.5</td>\n",
              "      <td>0.88</td>\n",
              "      <td>0.00</td>\n",
              "      <td>0.3</td>\n",
              "      <td>9.68</td>\n",
              "      <td>2.5</td>\n",
              "      <td>0.0</td>\n",
              "      <td>5.416667</td>\n",
              "    </tr>\n",
              "    <tr>\n",
              "      <th>1167331</th>\n",
              "      <td>1</td>\n",
              "      <td>2022-01-16 18:51:55</td>\n",
              "      <td>2022-01-16 19:07:46</td>\n",
              "      <td>1.0</td>\n",
              "      <td>1.80</td>\n",
              "      <td>1.0</td>\n",
              "      <td>N</td>\n",
              "      <td>107</td>\n",
              "      <td>158</td>\n",
              "      <td>1</td>\n",
              "      <td>11.5</td>\n",
              "      <td>2.5</td>\n",
              "      <td>0.5</td>\n",
              "      <td>2.00</td>\n",
              "      <td>0.00</td>\n",
              "      <td>0.3</td>\n",
              "      <td>16.80</td>\n",
              "      <td>2.5</td>\n",
              "      <td>0.0</td>\n",
              "      <td>15.850000</td>\n",
              "    </tr>\n",
              "    <tr>\n",
              "      <th>314203</th>\n",
              "      <td>2</td>\n",
              "      <td>2022-01-05 17:58:00</td>\n",
              "      <td>2022-01-05 17:59:38</td>\n",
              "      <td>1.0</td>\n",
              "      <td>0.41</td>\n",
              "      <td>1.0</td>\n",
              "      <td>N</td>\n",
              "      <td>140</td>\n",
              "      <td>262</td>\n",
              "      <td>1</td>\n",
              "      <td>3.5</td>\n",
              "      <td>1.0</td>\n",
              "      <td>0.5</td>\n",
              "      <td>1.00</td>\n",
              "      <td>0.00</td>\n",
              "      <td>0.3</td>\n",
              "      <td>8.80</td>\n",
              "      <td>2.5</td>\n",
              "      <td>0.0</td>\n",
              "      <td>1.633333</td>\n",
              "    </tr>\n",
              "    <tr>\n",
              "      <th>2356759</th>\n",
              "      <td>2</td>\n",
              "      <td>2022-01-31 16:41:42</td>\n",
              "      <td>2022-01-31 16:44:16</td>\n",
              "      <td>1.0</td>\n",
              "      <td>0.60</td>\n",
              "      <td>1.0</td>\n",
              "      <td>N</td>\n",
              "      <td>43</td>\n",
              "      <td>238</td>\n",
              "      <td>2</td>\n",
              "      <td>4.0</td>\n",
              "      <td>1.0</td>\n",
              "      <td>0.5</td>\n",
              "      <td>0.00</td>\n",
              "      <td>0.00</td>\n",
              "      <td>0.3</td>\n",
              "      <td>8.30</td>\n",
              "      <td>2.5</td>\n",
              "      <td>0.0</td>\n",
              "      <td>2.566667</td>\n",
              "    </tr>\n",
              "    <tr>\n",
              "      <th>1047164</th>\n",
              "      <td>2</td>\n",
              "      <td>2022-01-15 10:17:30</td>\n",
              "      <td>2022-01-15 10:44:28</td>\n",
              "      <td>1.0</td>\n",
              "      <td>11.04</td>\n",
              "      <td>1.0</td>\n",
              "      <td>N</td>\n",
              "      <td>100</td>\n",
              "      <td>14</td>\n",
              "      <td>1</td>\n",
              "      <td>33.5</td>\n",
              "      <td>0.0</td>\n",
              "      <td>0.5</td>\n",
              "      <td>8.67</td>\n",
              "      <td>6.55</td>\n",
              "      <td>0.3</td>\n",
              "      <td>52.02</td>\n",
              "      <td>2.5</td>\n",
              "      <td>0.0</td>\n",
              "      <td>26.966667</td>\n",
              "    </tr>\n",
              "    <tr>\n",
              "      <th>...</th>\n",
              "      <td>...</td>\n",
              "      <td>...</td>\n",
              "      <td>...</td>\n",
              "      <td>...</td>\n",
              "      <td>...</td>\n",
              "      <td>...</td>\n",
              "      <td>...</td>\n",
              "      <td>...</td>\n",
              "      <td>...</td>\n",
              "      <td>...</td>\n",
              "      <td>...</td>\n",
              "      <td>...</td>\n",
              "      <td>...</td>\n",
              "      <td>...</td>\n",
              "      <td>...</td>\n",
              "      <td>...</td>\n",
              "      <td>...</td>\n",
              "      <td>...</td>\n",
              "      <td>...</td>\n",
              "      <td>...</td>\n",
              "    </tr>\n",
              "    <tr>\n",
              "      <th>1296809</th>\n",
              "      <td>1</td>\n",
              "      <td>2022-01-18 16:40:10</td>\n",
              "      <td>2022-01-18 16:46:28</td>\n",
              "      <td>1.0</td>\n",
              "      <td>0.90</td>\n",
              "      <td>1.0</td>\n",
              "      <td>N</td>\n",
              "      <td>262</td>\n",
              "      <td>141</td>\n",
              "      <td>2</td>\n",
              "      <td>6.0</td>\n",
              "      <td>3.5</td>\n",
              "      <td>0.5</td>\n",
              "      <td>0.00</td>\n",
              "      <td>0.00</td>\n",
              "      <td>0.3</td>\n",
              "      <td>10.30</td>\n",
              "      <td>2.5</td>\n",
              "      <td>0.0</td>\n",
              "      <td>6.300000</td>\n",
              "    </tr>\n",
              "    <tr>\n",
              "      <th>1558281</th>\n",
              "      <td>2</td>\n",
              "      <td>2022-01-21 16:24:50</td>\n",
              "      <td>2022-01-21 16:44:46</td>\n",
              "      <td>1.0</td>\n",
              "      <td>3.08</td>\n",
              "      <td>1.0</td>\n",
              "      <td>N</td>\n",
              "      <td>161</td>\n",
              "      <td>211</td>\n",
              "      <td>1</td>\n",
              "      <td>14.0</td>\n",
              "      <td>1.0</td>\n",
              "      <td>0.5</td>\n",
              "      <td>4.58</td>\n",
              "      <td>0.00</td>\n",
              "      <td>0.3</td>\n",
              "      <td>22.88</td>\n",
              "      <td>2.5</td>\n",
              "      <td>0.0</td>\n",
              "      <td>19.933333</td>\n",
              "    </tr>\n",
              "    <tr>\n",
              "      <th>2261662</th>\n",
              "      <td>2</td>\n",
              "      <td>2022-01-30 12:44:33</td>\n",
              "      <td>2022-01-30 12:54:55</td>\n",
              "      <td>1.0</td>\n",
              "      <td>1.57</td>\n",
              "      <td>1.0</td>\n",
              "      <td>N</td>\n",
              "      <td>87</td>\n",
              "      <td>148</td>\n",
              "      <td>1</td>\n",
              "      <td>9.0</td>\n",
              "      <td>0.0</td>\n",
              "      <td>0.5</td>\n",
              "      <td>2.46</td>\n",
              "      <td>0.00</td>\n",
              "      <td>0.3</td>\n",
              "      <td>14.76</td>\n",
              "      <td>2.5</td>\n",
              "      <td>0.0</td>\n",
              "      <td>10.366667</td>\n",
              "    </tr>\n",
              "    <tr>\n",
              "      <th>1527438</th>\n",
              "      <td>2</td>\n",
              "      <td>2022-01-21 11:18:03</td>\n",
              "      <td>2022-01-21 11:27:06</td>\n",
              "      <td>1.0</td>\n",
              "      <td>0.74</td>\n",
              "      <td>1.0</td>\n",
              "      <td>N</td>\n",
              "      <td>79</td>\n",
              "      <td>232</td>\n",
              "      <td>1</td>\n",
              "      <td>7.0</td>\n",
              "      <td>0.0</td>\n",
              "      <td>0.5</td>\n",
              "      <td>2.06</td>\n",
              "      <td>0.00</td>\n",
              "      <td>0.3</td>\n",
              "      <td>12.36</td>\n",
              "      <td>2.5</td>\n",
              "      <td>0.0</td>\n",
              "      <td>9.050000</td>\n",
              "    </tr>\n",
              "    <tr>\n",
              "      <th>2124024</th>\n",
              "      <td>2</td>\n",
              "      <td>2022-01-28 01:04:25</td>\n",
              "      <td>2022-01-28 01:11:05</td>\n",
              "      <td>2.0</td>\n",
              "      <td>1.64</td>\n",
              "      <td>1.0</td>\n",
              "      <td>N</td>\n",
              "      <td>163</td>\n",
              "      <td>48</td>\n",
              "      <td>1</td>\n",
              "      <td>7.5</td>\n",
              "      <td>0.5</td>\n",
              "      <td>0.5</td>\n",
              "      <td>2.26</td>\n",
              "      <td>0.00</td>\n",
              "      <td>0.3</td>\n",
              "      <td>13.56</td>\n",
              "      <td>2.5</td>\n",
              "      <td>0.0</td>\n",
              "      <td>6.666667</td>\n",
              "    </tr>\n",
              "  </tbody>\n",
              "</table>\n",
              "<p>1816080 rows × 20 columns</p>\n",
              "</div>\n",
              "      <button class=\"colab-df-convert\" onclick=\"convertToInteractive('df-c694ad4d-1b50-4448-b89d-73cbd784d1f0')\"\n",
              "              title=\"Convert this dataframe to an interactive table.\"\n",
              "              style=\"display:none;\">\n",
              "        \n",
              "  <svg xmlns=\"http://www.w3.org/2000/svg\" height=\"24px\"viewBox=\"0 0 24 24\"\n",
              "       width=\"24px\">\n",
              "    <path d=\"M0 0h24v24H0V0z\" fill=\"none\"/>\n",
              "    <path d=\"M18.56 5.44l.94 2.06.94-2.06 2.06-.94-2.06-.94-.94-2.06-.94 2.06-2.06.94zm-11 1L8.5 8.5l.94-2.06 2.06-.94-2.06-.94L8.5 2.5l-.94 2.06-2.06.94zm10 10l.94 2.06.94-2.06 2.06-.94-2.06-.94-.94-2.06-.94 2.06-2.06.94z\"/><path d=\"M17.41 7.96l-1.37-1.37c-.4-.4-.92-.59-1.43-.59-.52 0-1.04.2-1.43.59L10.3 9.45l-7.72 7.72c-.78.78-.78 2.05 0 2.83L4 21.41c.39.39.9.59 1.41.59.51 0 1.02-.2 1.41-.59l7.78-7.78 2.81-2.81c.8-.78.8-2.07 0-2.86zM5.41 20L4 18.59l7.72-7.72 1.47 1.35L5.41 20z\"/>\n",
              "  </svg>\n",
              "      </button>\n",
              "      \n",
              "  <style>\n",
              "    .colab-df-container {\n",
              "      display:flex;\n",
              "      flex-wrap:wrap;\n",
              "      gap: 12px;\n",
              "    }\n",
              "\n",
              "    .colab-df-convert {\n",
              "      background-color: #E8F0FE;\n",
              "      border: none;\n",
              "      border-radius: 50%;\n",
              "      cursor: pointer;\n",
              "      display: none;\n",
              "      fill: #1967D2;\n",
              "      height: 32px;\n",
              "      padding: 0 0 0 0;\n",
              "      width: 32px;\n",
              "    }\n",
              "\n",
              "    .colab-df-convert:hover {\n",
              "      background-color: #E2EBFA;\n",
              "      box-shadow: 0px 1px 2px rgba(60, 64, 67, 0.3), 0px 1px 3px 1px rgba(60, 64, 67, 0.15);\n",
              "      fill: #174EA6;\n",
              "    }\n",
              "\n",
              "    [theme=dark] .colab-df-convert {\n",
              "      background-color: #3B4455;\n",
              "      fill: #D2E3FC;\n",
              "    }\n",
              "\n",
              "    [theme=dark] .colab-df-convert:hover {\n",
              "      background-color: #434B5C;\n",
              "      box-shadow: 0px 1px 3px 1px rgba(0, 0, 0, 0.15);\n",
              "      filter: drop-shadow(0px 1px 2px rgba(0, 0, 0, 0.3));\n",
              "      fill: #FFFFFF;\n",
              "    }\n",
              "  </style>\n",
              "\n",
              "      <script>\n",
              "        const buttonEl =\n",
              "          document.querySelector('#df-c694ad4d-1b50-4448-b89d-73cbd784d1f0 button.colab-df-convert');\n",
              "        buttonEl.style.display =\n",
              "          google.colab.kernel.accessAllowed ? 'block' : 'none';\n",
              "\n",
              "        async function convertToInteractive(key) {\n",
              "          const element = document.querySelector('#df-c694ad4d-1b50-4448-b89d-73cbd784d1f0');\n",
              "          const dataTable =\n",
              "            await google.colab.kernel.invokeFunction('convertToInteractive',\n",
              "                                                     [key], {});\n",
              "          if (!dataTable) return;\n",
              "\n",
              "          const docLinkHtml = 'Like what you see? Visit the ' +\n",
              "            '<a target=\"_blank\" href=https://colab.research.google.com/notebooks/data_table.ipynb>data table notebook</a>'\n",
              "            + ' to learn more about interactive tables.';\n",
              "          element.innerHTML = '';\n",
              "          dataTable['output_type'] = 'display_data';\n",
              "          await google.colab.output.renderOutput(dataTable, element);\n",
              "          const docLink = document.createElement('div');\n",
              "          docLink.innerHTML = docLinkHtml;\n",
              "          element.appendChild(docLink);\n",
              "        }\n",
              "      </script>\n",
              "    </div>\n",
              "  </div>\n",
              "  "
            ]
          },
          "metadata": {},
          "execution_count": 15
        }
      ]
    },
    {
      "cell_type": "code",
      "source": [
        "#train_dicts = array_hot_encoded.to_dict(orient='records')\n"
      ],
      "metadata": {
        "id": "YU7FcalJSJFf"
      },
      "execution_count": 16,
      "outputs": []
    },
    {
      "cell_type": "code",
      "source": [
        "y_train = temp['duration']\n",
        "lr = LinearRegression()\n",
        "lr.fit(array_hot_encoded, y_train)"
      ],
      "metadata": {
        "id": "IN5QejqjSRtC",
        "colab": {
          "base_uri": "https://localhost:8080/",
          "height": 74
        },
        "outputId": "993392d1-0526-4809-c1dd-c7808db9754a"
      },
      "execution_count": 17,
      "outputs": [
        {
          "output_type": "execute_result",
          "data": {
            "text/plain": [
              "LinearRegression()"
            ],
            "text/html": [
              "<style>#sk-container-id-1 {color: black;background-color: white;}#sk-container-id-1 pre{padding: 0;}#sk-container-id-1 div.sk-toggleable {background-color: white;}#sk-container-id-1 label.sk-toggleable__label {cursor: pointer;display: block;width: 100%;margin-bottom: 0;padding: 0.3em;box-sizing: border-box;text-align: center;}#sk-container-id-1 label.sk-toggleable__label-arrow:before {content: \"▸\";float: left;margin-right: 0.25em;color: #696969;}#sk-container-id-1 label.sk-toggleable__label-arrow:hover:before {color: black;}#sk-container-id-1 div.sk-estimator:hover label.sk-toggleable__label-arrow:before {color: black;}#sk-container-id-1 div.sk-toggleable__content {max-height: 0;max-width: 0;overflow: hidden;text-align: left;background-color: #f0f8ff;}#sk-container-id-1 div.sk-toggleable__content pre {margin: 0.2em;color: black;border-radius: 0.25em;background-color: #f0f8ff;}#sk-container-id-1 input.sk-toggleable__control:checked~div.sk-toggleable__content {max-height: 200px;max-width: 100%;overflow: auto;}#sk-container-id-1 input.sk-toggleable__control:checked~label.sk-toggleable__label-arrow:before {content: \"▾\";}#sk-container-id-1 div.sk-estimator input.sk-toggleable__control:checked~label.sk-toggleable__label {background-color: #d4ebff;}#sk-container-id-1 div.sk-label input.sk-toggleable__control:checked~label.sk-toggleable__label {background-color: #d4ebff;}#sk-container-id-1 input.sk-hidden--visually {border: 0;clip: rect(1px 1px 1px 1px);clip: rect(1px, 1px, 1px, 1px);height: 1px;margin: -1px;overflow: hidden;padding: 0;position: absolute;width: 1px;}#sk-container-id-1 div.sk-estimator {font-family: monospace;background-color: #f0f8ff;border: 1px dotted black;border-radius: 0.25em;box-sizing: border-box;margin-bottom: 0.5em;}#sk-container-id-1 div.sk-estimator:hover {background-color: #d4ebff;}#sk-container-id-1 div.sk-parallel-item::after {content: \"\";width: 100%;border-bottom: 1px solid gray;flex-grow: 1;}#sk-container-id-1 div.sk-label:hover label.sk-toggleable__label {background-color: #d4ebff;}#sk-container-id-1 div.sk-serial::before {content: \"\";position: absolute;border-left: 1px solid gray;box-sizing: border-box;top: 0;bottom: 0;left: 50%;z-index: 0;}#sk-container-id-1 div.sk-serial {display: flex;flex-direction: column;align-items: center;background-color: white;padding-right: 0.2em;padding-left: 0.2em;position: relative;}#sk-container-id-1 div.sk-item {position: relative;z-index: 1;}#sk-container-id-1 div.sk-parallel {display: flex;align-items: stretch;justify-content: center;background-color: white;position: relative;}#sk-container-id-1 div.sk-item::before, #sk-container-id-1 div.sk-parallel-item::before {content: \"\";position: absolute;border-left: 1px solid gray;box-sizing: border-box;top: 0;bottom: 0;left: 50%;z-index: -1;}#sk-container-id-1 div.sk-parallel-item {display: flex;flex-direction: column;z-index: 1;position: relative;background-color: white;}#sk-container-id-1 div.sk-parallel-item:first-child::after {align-self: flex-end;width: 50%;}#sk-container-id-1 div.sk-parallel-item:last-child::after {align-self: flex-start;width: 50%;}#sk-container-id-1 div.sk-parallel-item:only-child::after {width: 0;}#sk-container-id-1 div.sk-dashed-wrapped {border: 1px dashed gray;margin: 0 0.4em 0.5em 0.4em;box-sizing: border-box;padding-bottom: 0.4em;background-color: white;}#sk-container-id-1 div.sk-label label {font-family: monospace;font-weight: bold;display: inline-block;line-height: 1.2em;}#sk-container-id-1 div.sk-label-container {text-align: center;}#sk-container-id-1 div.sk-container {/* jupyter's `normalize.less` sets `[hidden] { display: none; }` but bootstrap.min.css set `[hidden] { display: none !important; }` so we also need the `!important` here to be able to override the default hidden behavior on the sphinx rendered scikit-learn.org. See: https://github.com/scikit-learn/scikit-learn/issues/21755 */display: inline-block !important;position: relative;}#sk-container-id-1 div.sk-text-repr-fallback {display: none;}</style><div id=\"sk-container-id-1\" class=\"sk-top-container\"><div class=\"sk-text-repr-fallback\"><pre>LinearRegression()</pre><b>In a Jupyter environment, please rerun this cell to show the HTML representation or trust the notebook. <br />On GitHub, the HTML representation is unable to render, please try loading this page with nbviewer.org.</b></div><div class=\"sk-container\" hidden><div class=\"sk-item\"><div class=\"sk-estimator sk-toggleable\"><input class=\"sk-toggleable__control sk-hidden--visually\" id=\"sk-estimator-id-1\" type=\"checkbox\" checked><label for=\"sk-estimator-id-1\" class=\"sk-toggleable__label sk-toggleable__label-arrow\">LinearRegression</label><div class=\"sk-toggleable__content\"><pre>LinearRegression()</pre></div></div></div></div></div>"
            ]
          },
          "metadata": {},
          "execution_count": 17
        }
      ]
    },
    {
      "cell_type": "code",
      "source": [
        "y_pred = lr.predict(array_hot_encoded)\n",
        "mean_squared_error(y_train, y_pred, squared=False)"
      ],
      "metadata": {
        "id": "nsTARN8uS0WZ",
        "colab": {
          "base_uri": "https://localhost:8080/"
        },
        "outputId": "7f922544-0da2-4124-e109-8aaf7e8ab6f9"
      },
      "execution_count": 18,
      "outputs": [
        {
          "output_type": "execute_result",
          "data": {
            "text/plain": [
              "6.988911809913138"
            ]
          },
          "metadata": {},
          "execution_count": 18
        }
      ]
    },
    {
      "cell_type": "code",
      "source": [
        "\n",
        "array_hot_encoded_val = pd.DataFrame(ohe.transform(df_val[categorical]).toarray())"
      ],
      "metadata": {
        "id": "FJFkeyDqW9cb"
      },
      "execution_count": 19,
      "outputs": []
    },
    {
      "cell_type": "code",
      "source": [
        "\n",
        "y_val = df_val['duration']"
      ],
      "metadata": {
        "id": "PT8TwiXWgTAW"
      },
      "execution_count": null,
      "outputs": []
    },
    {
      "cell_type": "code",
      "source": [
        "y_pred_val = lr.predict(array_hot_encoded_val = pd.DataFrame(ohe.transform(df_val[categorical]).toarray()))\n",
        "mean_squared_error(y_pred_val, y_val, squared=False)"
      ],
      "metadata": {
        "id": "im9FLWGOa2Qe"
      },
      "execution_count": 19,
      "outputs": []
    }
  ]
}